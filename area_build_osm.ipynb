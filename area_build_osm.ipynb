{
 "cells": [
  {
   "cell_type": "markdown",
   "id": "b3AM9btRWxuJ",
   "metadata": {
    "id": "b3AM9btRWxuJ"
   },
   "source": [
    "### **Площадь здания на OSM**"
   ]
  },
  {
   "cell_type": "code",
   "execution_count": null,
   "id": "d4abc512-014d-4997-b5f6-1a4b22f9016b",
   "metadata": {},
   "outputs": [],
   "source": [
    "import geopandas as gpd\n",
    "import osmnx as ox\n",
    "from shapely.geometry import Point\n",
    "import pandas as pd"
   ]
  },
  {
   "cell_type": "code",
   "execution_count": 1,
   "id": "eff5ac9e-e891-4ed6-9661-2c08f6a5a351",
   "metadata": {
    "executionInfo": {
     "elapsed": 4143,
     "status": "ok",
     "timestamp": 1757984875316,
     "user": {
      "displayName": "Maria Didenko",
      "userId": "07403482687340093086"
     },
     "user_tz": -180
    },
    "id": "eff5ac9e-e891-4ed6-9661-2c08f6a5a351"
   },
   "outputs": [],
   "source": [
    "data = pd.read_excel('jakarta_fitness_itog.xlsx')"
   ]
  },
  {
   "cell_type": "code",
   "execution_count": 2,
   "id": "baa2ba14-f173-4609-8883-15428ee7d464",
   "metadata": {
    "colab": {
     "base_uri": "https://localhost:8080/"
    },
    "executionInfo": {
     "elapsed": 19,
     "status": "ok",
     "timestamp": 1757984875368,
     "user": {
      "displayName": "Maria Didenko",
      "userId": "07403482687340093086"
     },
     "user_tz": -180
    },
    "id": "baa2ba14-f173-4609-8883-15428ee7d464",
    "outputId": "29fc3f7b-2c33-4edd-9c14-36f779b8aa3f"
   },
   "outputs": [
    {
     "data": {
      "text/plain": [
       "2154"
      ]
     },
     "execution_count": 2,
     "metadata": {},
     "output_type": "execute_result"
    }
   ],
   "source": [
    "len(data)"
   ]
  },
  {
   "cell_type": "code",
   "execution_count": null,
   "id": "Vdh5XIw13lYX",
   "metadata": {
    "colab": {
     "base_uri": "https://localhost:8080/"
    },
    "executionInfo": {
     "elapsed": 1346765,
     "status": "ok",
     "timestamp": 1757986223575,
     "user": {
      "displayName": "Maria Didenko",
      "userId": "07403482687340093086"
     },
     "user_tz": -180
    },
    "id": "Vdh5XIw13lYX",
    "outputId": "afbfefc5-e8b9-4dae-e3ff-c73cd05cc6af"
   },
   "outputs": [],
   "source": [
    "def get_nearest_building_area(lat, lon):\n",
    "    point = Point(lon, lat)\n",
    "    try:\n",
    "        # Загружаем здания в радиусе 30 метров от точки\n",
    "        buildings = ox.features_from_point((lat, lon), tags={'building': True}, dist=350)\n",
    "\n",
    "        if not buildings.empty:\n",
    "            # Преобразуем в проекцию в метрах\n",
    "            buildings = buildings.to_crs(epsg=3857)\n",
    "            point_proj = gpd.GeoSeries([point], crs='EPSG:4326').to_crs(epsg=3857).iloc[0]\n",
    "\n",
    "            # Вычисляем расстояние до каждого здания в метрах\n",
    "            buildings['distance'] = buildings.geometry.distance(point_proj)\n",
    "\n",
    "            # Сортируем по расстоянию и берем ближайшее\n",
    "            nearest_building = buildings.sort_values('distance').iloc[0]\n",
    "\n",
    "            area = nearest_building.geometry.area\n",
    "            intersects = nearest_building.geometry.intersects(point_proj)\n",
    "\n",
    "            return area, 1 if intersects else 0\n",
    "        else:\n",
    "            return None, 0\n",
    "    except Exception as e:\n",
    "        print(f\"Error for coordinates ({lat}, {lon}): {e}\")\n",
    "        return None, 0\n",
    "\n",
    "# Обработка данных\n",
    "results = []\n",
    "for index, row in data.iterrows():\n",
    "    area, intersect = get_nearest_building_area(row['latitude'], row['longitude'])\n",
    "    results.append({\n",
    "        'latitude': row['latitude'],\n",
    "        'longitude': row['longitude'],\n",
    "        'area': area,\n",
    "        'intersect': intersect\n",
    "    })\n",
    "    if index%100==0:\n",
    "      print(index)\n",
    "      pd.DataFrame(results).to_excel('jakarta_builds_area_osm.xlsx')\n",
    "\n",
    "\n",
    "result_df = pd.DataFrame(results)"
   ]
  },
  {
   "cell_type": "code",
   "execution_count": 6,
   "id": "833bDAivBi08",
   "metadata": {
    "executionInfo": {
     "elapsed": 44,
     "status": "ok",
     "timestamp": 1757986223616,
     "user": {
      "displayName": "Maria Didenko",
      "userId": "07403482687340093086"
     },
     "user_tz": -180
    },
    "id": "833bDAivBi08"
   },
   "outputs": [],
   "source": [
    "result_df.to_excel('jakarta_builds_area_osm.xlsx', index = False)"
   ]
  },
  {
   "cell_type": "code",
   "execution_count": 7,
   "id": "cXNcLM8UBOez",
   "metadata": {
    "executionInfo": {
     "elapsed": 47,
     "status": "ok",
     "timestamp": 1757986223666,
     "user": {
      "displayName": "Maria Didenko",
      "userId": "07403482687340093086"
     },
     "user_tz": -180
    },
    "id": "cXNcLM8UBOez"
   },
   "outputs": [],
   "source": [
    "data['area_building_osm'] = result_df['area']\n",
    "data['intersect_building_osm'] = result_df['intersect']"
   ]
  },
  {
   "cell_type": "code",
   "execution_count": 8,
   "id": "FC4WMfRsBoGR",
   "metadata": {
    "executionInfo": {
     "elapsed": 679,
     "status": "ok",
     "timestamp": 1757986224347,
     "user": {
      "displayName": "Maria Didenko",
      "userId": "07403482687340093086"
     },
     "user_tz": -180
    },
    "id": "FC4WMfRsBoGR"
   },
   "outputs": [],
   "source": [
    "data.to_excel('jakarta_fitness_itog.xlsx', index = False)"
   ]
  }
 ],
 "metadata": {
  "colab": {
   "provenance": []
  },
  "kernelspec": {
   "display_name": "Python 3 (ipykernel)",
   "language": "python",
   "name": "python3"
  },
  "language_info": {
   "codemirror_mode": {
    "name": "ipython",
    "version": 3
   },
   "file_extension": ".py",
   "mimetype": "text/x-python",
   "name": "python",
   "nbconvert_exporter": "python",
   "pygments_lexer": "ipython3",
   "version": "3.12.9"
  }
 },
 "nbformat": 4,
 "nbformat_minor": 5
}
